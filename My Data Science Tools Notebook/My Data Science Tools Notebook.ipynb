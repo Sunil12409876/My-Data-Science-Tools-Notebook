{
 "cells": [
  {
   "cell_type": "code",
   "execution_count": 1,
   "id": "e82f5f63-e1ed-4f56-852e-515fcc9743c4",
   "metadata": {},
   "outputs": [],
   "source": [
    "# My Data Science Tools Notebook"
   ]
  },
  {
   "cell_type": "markdown",
   "id": "397269a2-b908-4c76-99a3-4dfc84532bec",
   "metadata": {},
   "source": [
    "This notebook presents key concepts and tools used in data science. It includes languages, libraries, tools, and simple arithmetic examples."
   ]
  },
  {
   "cell_type": "markdown",
   "id": "f76c4f3f-f0ae-48ec-9984-577756022b64",
   "metadata": {},
   "source": [
    "## Popular Data Science Languages\n",
    "\n",
    "1. Python  \n",
    "2. R  \n",
    "3. SQL  \n",
    "4. Julia  \n",
    "5. Scala"
   ]
  },
  {
   "cell_type": "markdown",
   "id": "e1656709-d1e2-4ce3-b42b-77707edf28cc",
   "metadata": {},
   "source": [
    "## Popular Data Science Libraries\n",
    "\n",
    "1. Pandas  \n",
    "2. NumPy  \n",
    "3. Matplotlib  \n",
    "4. Scikit-learn  \n",
    "5. TensorFlow  \n",
    "6. Keras"
   ]
  },
  {
   "cell_type": "markdown",
   "id": "84c1cd97-3e33-4450-8b7e-c24693e59240",
   "metadata": {},
   "source": [
    "## Data Science Tools\n",
    "\n",
    "| Tool             | Description                   |\n",
    "|------------------|-------------------------------|\n",
    "| Jupyter Notebook | Interactive coding notebook   |\n",
    "| RStudio          | IDE for R                     |\n",
    "| Apache Spark     | Big data processing framework |\n",
    "| TensorFlow       | Deep learning framework       |\n",
    "| Tableau          | Data visualization tool       |\n"
   ]
  },
  {
   "cell_type": "markdown",
   "id": "9872364b-7e0c-4257-bd07-c435bf0dcef4",
   "metadata": {},
   "source": [
    "## Arithmetic Expressions\n",
    "\n",
    "Let's demonstrate how to perform arithmetic operations like multiplication and addition using Python."
   ]
  },
  {
   "cell_type": "code",
   "execution_count": 2,
   "id": "12d1b223-2452-45d1-8f2b-3637b7aab853",
   "metadata": {},
   "outputs": [
    {
     "name": "stdout",
     "output_type": "stream",
     "text": [
      "The result of (5 * 3) + 2 is: 17\n"
     ]
    }
   ],
   "source": [
    "# Multiply and add numbers\n",
    "a = 5\n",
    "b = 3\n",
    "c = 2\n",
    "\n",
    "result = (a * b) + c\n",
    "print(\"The result of (5 * 3) + 2 is:\", result)"
   ]
  },
  {
   "cell_type": "code",
   "execution_count": 3,
   "id": "a10d2bdd-31ef-41db-953a-b75748fd5b2d",
   "metadata": {},
   "outputs": [
    {
     "name": "stdout",
     "output_type": "stream",
     "text": [
      "150 minutes is equal to 2.5 hours\n"
     ]
    }
   ],
   "source": [
    "# Convert 150 minutes to hours\n",
    "minutes = 150\n",
    "hours = minutes / 60\n",
    "print(\"150 minutes is equal to\", hours, \"hours\")"
   ]
  },
  {
   "cell_type": "markdown",
   "id": "62c67e86-40e4-4cff-9289-9f7d146ebb00",
   "metadata": {},
   "source": [
    "## Objectives\n",
    "\n",
    "* Understand key languages used in Data Science  \n",
    "* Learn about popular libraries and tools  \n",
    "* Practice basic Python arithmetic  \n",
    "* Learn to format notebooks using Markdown and Code cells  "
   ]
  },
  {
   "cell_type": "markdown",
   "id": "42c514d8-689f-4ff0-8006-97d7994e73f6",
   "metadata": {},
   "source": [
    "**Author**: Sunil Sharma  \n",
    "**Program**: Master of Computer Applications (MCA)  \n",
    "**University**: Lovely Professional University (LPU)  \n",
    "**Course**: IBM Data Science  "
   ]
  },
  {
   "cell_type": "markdown",
   "id": "b7a6f993-0790-44ba-a143-c8caa2568de8",
   "metadata": {},
   "source": [
    "**Interest Areas**: Data Science, Machine Learning, Python Programming"
   ]
  }
 ],
 "metadata": {
  "kernelspec": {
   "display_name": "Python 3 (ipykernel)",
   "language": "python",
   "name": "python3"
  },
  "language_info": {
   "codemirror_mode": {
    "name": "ipython",
    "version": 3
   },
   "file_extension": ".py",
   "mimetype": "text/x-python",
   "name": "python",
   "nbconvert_exporter": "python",
   "pygments_lexer": "ipython3",
   "version": "3.10.11"
  }
 },
 "nbformat": 4,
 "nbformat_minor": 5
}
